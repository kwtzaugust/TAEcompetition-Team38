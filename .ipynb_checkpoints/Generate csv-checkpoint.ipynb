{
 "cells": [
  {
   "cell_type": "markdown",
   "metadata": {},
   "source": [
    "# Import Data"
   ]
  },
  {
   "cell_type": "code",
   "execution_count": 19,
   "metadata": {},
   "outputs": [],
   "source": [
    "train = read.csv(\"2019tae/train.csv\")\n",
    "test = read.csv(\"2019tae/test.csv\")"
   ]
  },
  {
   "cell_type": "markdown",
   "metadata": {},
   "source": [
    "# Cleaning"
   ]
  },
  {
   "cell_type": "code",
   "execution_count": 20,
   "metadata": {},
   "outputs": [
    {
     "name": "stderr",
     "output_type": "stream",
     "text": [
      "Warning message in tm_map.SimpleCorpus(corpus, content_transformer(tolower)):\n",
      "“transformation drops documents”Warning message in tm_map.SimpleCorpus(corpus, removeWords, stopwords(\"english\")):\n",
      "“transformation drops documents”Warning message in tm_map.SimpleCorpus(corpus, removePunctuation):\n",
      "“transformation drops documents”Warning message in tm_map.SimpleCorpus(corpus, removeNumbers):\n",
      "“transformation drops documents”Warning message in tm_map.SimpleCorpus(corpus, stemDocument):\n",
      "“transformation drops documents”"
     ]
    }
   ],
   "source": [
    "library(tm)\n",
    "corpus <- Corpus(VectorSource(train$tweet))\n",
    "corpus <- tm_map(corpus,content_transformer(tolower))\n",
    "corpus <- tm_map(corpus,removeWords,stopwords(\"english\"))\n",
    "corpus <- tm_map(corpus,removePunctuation)\n",
    "corpus <- tm_map(corpus,removeNumbers)\n",
    "corpus <- tm_map(corpus,stemDocument)"
   ]
  },
  {
   "cell_type": "code",
   "execution_count": 21,
   "metadata": {},
   "outputs": [],
   "source": [
    "dtm <- DocumentTermMatrix(corpus)\n",
    "dtm_sparsity = 0.995\n",
    "dtm <- removeSparseTerms(dtm,dtm_sparsity)\n",
    "\n",
    "twittersparse <- as.data.frame(as.matrix(dtm))\n",
    "colnames(twittersparse) <- make.names(colnames(twittersparse))\n",
    "twittersparse$sentiment = train$sentiment"
   ]
  },
  {
   "cell_type": "markdown",
   "metadata": {},
   "source": [
    "# Train Model"
   ]
  },
  {
   "cell_type": "code",
   "execution_count": 22,
   "metadata": {},
   "outputs": [],
   "source": [
    "train = twittersparse"
   ]
  },
  {
   "cell_type": "code",
   "execution_count": 23,
   "metadata": {},
   "outputs": [
    {
     "name": "stderr",
     "output_type": "stream",
     "text": [
      "randomForest 4.6-14\n",
      "Type rfNews() to see new features/changes/bug fixes.\n"
     ]
    }
   ],
   "source": [
    "library(randomForest)\n",
    "set.seed(1)\n",
    "ntree = 500\n",
    "forest <- randomForest(as.factor(sentiment)~., data=train, nodesize=5, ntree=ntree)"
   ]
  },
  {
   "cell_type": "code",
   "execution_count": null,
   "metadata": {},
   "outputs": [],
   "source": []
  },
  {
   "cell_type": "markdown",
   "metadata": {},
   "source": [
    "# Predictions"
   ]
  },
  {
   "cell_type": "code",
   "execution_count": null,
   "metadata": {},
   "outputs": [],
   "source": [
    "corpus <- Corpus(VectorSource(test$tweet))\n",
    "corpus <- tm_map(corpus,content_transformer(tolower))\n",
    "corpus <- tm_map(corpus,removeWords,stopwords(\"english\"))\n",
    "corpus <- tm_map(corpus,removePunctuation)\n",
    "corpus <- tm_map(corpus,removeNumbers)\n",
    "corpus <- tm_map(corpus,stemDocument)\n",
    "dtm_test <- DocumentTermMatrix(corpus, control = list\n",
    "               (dictionary=Terms(dtm)))\n",
    "twittersparse_test <- as.data.frame(as.matrix(dtm_test))\n",
    "colnames(twittersparse_test) <- make.names(colnames(twittersparse_test))"
   ]
  },
  {
   "cell_type": "code",
   "execution_count": null,
   "metadata": {},
   "outputs": [],
   "source": [
    "predict <- predict(forest,newdata=twittersparse_test,type=\"class\")"
   ]
  },
  {
   "cell_type": "code",
   "execution_count": null,
   "metadata": {},
   "outputs": [],
   "source": [
    "test$sentiment = predict"
   ]
  },
  {
   "cell_type": "markdown",
   "metadata": {},
   "source": [
    "# Export csv"
   ]
  },
  {
   "cell_type": "code",
   "execution_count": null,
   "metadata": {},
   "outputs": [],
   "source": [
    "write.csv(test, file = \"submission.csv\",row.names=FALSE)"
   ]
  },
  {
   "cell_type": "code",
   "execution_count": null,
   "metadata": {},
   "outputs": [],
   "source": []
  }
 ],
 "metadata": {
  "kernelspec": {
   "display_name": "R",
   "language": "R",
   "name": "ir"
  },
  "language_info": {
   "codemirror_mode": "r",
   "file_extension": ".r",
   "mimetype": "text/x-r-source",
   "name": "R",
   "pygments_lexer": "r",
   "version": "3.6.1"
  }
 },
 "nbformat": 4,
 "nbformat_minor": 2
}
