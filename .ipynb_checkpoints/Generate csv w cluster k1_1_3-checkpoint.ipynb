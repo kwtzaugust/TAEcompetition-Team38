{
 "cells": [
  {
   "cell_type": "markdown",
   "metadata": {},
   "source": [
    "# Data"
   ]
  },
  {
   "cell_type": "code",
   "execution_count": 1,
   "metadata": {},
   "outputs": [],
   "source": [
    "train = read.csv(\"2019tae/train.csv\")\n",
    "test = read.csv(\"2019tae/test.csv\")"
   ]
  },
  {
   "cell_type": "markdown",
   "metadata": {},
   "source": [
    "# Stage 1: Cluster"
   ]
  },
  {
   "cell_type": "markdown",
   "metadata": {},
   "source": [
    "## Process Corpus to DTM"
   ]
  },
  {
   "cell_type": "code",
   "execution_count": 1,
   "metadata": {},
   "outputs": [
    {
     "name": "stderr",
     "output_type": "stream",
     "text": [
      "Loading required package: tm\n",
      "\n",
      "Loading required package: NLP\n",
      "\n"
     ]
    },
    {
     "data": {
      "text/html": [
       "<ol class=list-inline>\n",
       "\t<li>'i'</li>\n",
       "\t<li>'me'</li>\n",
       "\t<li>'my'</li>\n",
       "\t<li>'myself'</li>\n",
       "\t<li>'we'</li>\n",
       "\t<li>'our'</li>\n",
       "\t<li>'ours'</li>\n",
       "\t<li>'ourselves'</li>\n",
       "\t<li>'you'</li>\n",
       "\t<li>'your'</li>\n",
       "\t<li>'yours'</li>\n",
       "\t<li>'yourself'</li>\n",
       "\t<li>'yourselves'</li>\n",
       "\t<li>'he'</li>\n",
       "\t<li>'him'</li>\n",
       "\t<li>'his'</li>\n",
       "\t<li>'himself'</li>\n",
       "\t<li>'she'</li>\n",
       "\t<li>'her'</li>\n",
       "\t<li>'hers'</li>\n",
       "\t<li>'herself'</li>\n",
       "\t<li>'it'</li>\n",
       "\t<li>'its'</li>\n",
       "\t<li>'itself'</li>\n",
       "\t<li>'they'</li>\n",
       "\t<li>'them'</li>\n",
       "\t<li>'their'</li>\n",
       "\t<li>'theirs'</li>\n",
       "\t<li>'themselves'</li>\n",
       "\t<li>'what'</li>\n",
       "\t<li>'which'</li>\n",
       "\t<li>'who'</li>\n",
       "\t<li>'whom'</li>\n",
       "\t<li>'this'</li>\n",
       "\t<li>'that'</li>\n",
       "\t<li>'these'</li>\n",
       "\t<li>'those'</li>\n",
       "\t<li>'am'</li>\n",
       "\t<li>'is'</li>\n",
       "\t<li>'are'</li>\n",
       "\t<li>'was'</li>\n",
       "\t<li>'were'</li>\n",
       "\t<li>'be'</li>\n",
       "\t<li>'being'</li>\n",
       "\t<li>'have'</li>\n",
       "\t<li>'has'</li>\n",
       "\t<li>'had'</li>\n",
       "\t<li>'do'</li>\n",
       "\t<li>'does'</li>\n",
       "\t<li>'did'</li>\n",
       "\t<li>'doing'</li>\n",
       "\t<li>'would'</li>\n",
       "\t<li>'should'</li>\n",
       "\t<li>'could'</li>\n",
       "\t<li>'i\\'m'</li>\n",
       "\t<li>'you\\'re'</li>\n",
       "\t<li>'he\\'s'</li>\n",
       "\t<li>'she\\'s'</li>\n",
       "\t<li>'it\\'s'</li>\n",
       "\t<li>'we\\'re'</li>\n",
       "\t<li>'they\\'re'</li>\n",
       "\t<li>'i\\'ve'</li>\n",
       "\t<li>'you\\'ve'</li>\n",
       "\t<li>'we\\'ve'</li>\n",
       "\t<li>'they\\'ve'</li>\n",
       "\t<li>'i\\'d'</li>\n",
       "\t<li>'you\\'d'</li>\n",
       "\t<li>'he\\'d'</li>\n",
       "\t<li>'she\\'d'</li>\n",
       "\t<li>'we\\'d'</li>\n",
       "\t<li>'they\\'d'</li>\n",
       "\t<li>'i\\'ll'</li>\n",
       "\t<li>'you\\'ll'</li>\n",
       "\t<li>'he\\'ll'</li>\n",
       "\t<li>'she\\'ll'</li>\n",
       "\t<li>'we\\'ll'</li>\n",
       "\t<li>'they\\'ll'</li>\n",
       "\t<li>'isn\\'t'</li>\n",
       "\t<li>'wasn\\'t'</li>\n",
       "\t<li>'weren\\'t'</li>\n",
       "\t<li>'haven\\'t'</li>\n",
       "\t<li>'didn\\'t'</li>\n",
       "\t<li>'won\\'t'</li>\n",
       "\t<li>'wouldn\\'t'</li>\n",
       "\t<li>'shan\\'t'</li>\n",
       "\t<li>'shouldn\\'t'</li>\n",
       "\t<li>'mustn\\'t'</li>\n",
       "\t<li>'let\\'s'</li>\n",
       "\t<li>'that\\'s'</li>\n",
       "\t<li>'who\\'s'</li>\n",
       "\t<li>'what\\'s'</li>\n",
       "\t<li>'here\\'s'</li>\n",
       "\t<li>'there\\'s'</li>\n",
       "\t<li>'when\\'s'</li>\n",
       "\t<li>'where\\'s'</li>\n",
       "\t<li>'why\\'s'</li>\n",
       "\t<li>'how\\'s'</li>\n",
       "\t<li>'a'</li>\n",
       "\t<li>'an'</li>\n",
       "\t<li>'the'</li>\n",
       "\t<li>'and'</li>\n",
       "\t<li>'but'</li>\n",
       "\t<li>'if'</li>\n",
       "\t<li>'or'</li>\n",
       "\t<li>'because'</li>\n",
       "\t<li>'as'</li>\n",
       "\t<li>'of'</li>\n",
       "\t<li>'at'</li>\n",
       "\t<li>'by'</li>\n",
       "\t<li>'for'</li>\n",
       "\t<li>'with'</li>\n",
       "\t<li>'about'</li>\n",
       "\t<li>'between'</li>\n",
       "\t<li>'into'</li>\n",
       "\t<li>'through'</li>\n",
       "\t<li>'during'</li>\n",
       "\t<li>'before'</li>\n",
       "\t<li>'after'</li>\n",
       "\t<li>'to'</li>\n",
       "\t<li>'from'</li>\n",
       "\t<li>'up'</li>\n",
       "\t<li>'in'</li>\n",
       "\t<li>'on'</li>\n",
       "\t<li>'off'</li>\n",
       "\t<li>'again'</li>\n",
       "\t<li>'further'</li>\n",
       "\t<li>'then'</li>\n",
       "\t<li>'once'</li>\n",
       "\t<li>'here'</li>\n",
       "\t<li>'there'</li>\n",
       "\t<li>'when'</li>\n",
       "\t<li>'where'</li>\n",
       "\t<li>'why'</li>\n",
       "\t<li>'any'</li>\n",
       "\t<li>'both'</li>\n",
       "\t<li>'each'</li>\n",
       "\t<li>'few'</li>\n",
       "\t<li>'other'</li>\n",
       "\t<li>'some'</li>\n",
       "\t<li>'nor'</li>\n",
       "\t<li>'own'</li>\n",
       "\t<li>'so'</li>\n",
       "</ol>\n"
      ],
      "text/latex": [
       "\\begin{enumerate*}\n",
       "\\item 'i'\n",
       "\\item 'me'\n",
       "\\item 'my'\n",
       "\\item 'myself'\n",
       "\\item 'we'\n",
       "\\item 'our'\n",
       "\\item 'ours'\n",
       "\\item 'ourselves'\n",
       "\\item 'you'\n",
       "\\item 'your'\n",
       "\\item 'yours'\n",
       "\\item 'yourself'\n",
       "\\item 'yourselves'\n",
       "\\item 'he'\n",
       "\\item 'him'\n",
       "\\item 'his'\n",
       "\\item 'himself'\n",
       "\\item 'she'\n",
       "\\item 'her'\n",
       "\\item 'hers'\n",
       "\\item 'herself'\n",
       "\\item 'it'\n",
       "\\item 'its'\n",
       "\\item 'itself'\n",
       "\\item 'they'\n",
       "\\item 'them'\n",
       "\\item 'their'\n",
       "\\item 'theirs'\n",
       "\\item 'themselves'\n",
       "\\item 'what'\n",
       "\\item 'which'\n",
       "\\item 'who'\n",
       "\\item 'whom'\n",
       "\\item 'this'\n",
       "\\item 'that'\n",
       "\\item 'these'\n",
       "\\item 'those'\n",
       "\\item 'am'\n",
       "\\item 'is'\n",
       "\\item 'are'\n",
       "\\item 'was'\n",
       "\\item 'were'\n",
       "\\item 'be'\n",
       "\\item 'being'\n",
       "\\item 'have'\n",
       "\\item 'has'\n",
       "\\item 'had'\n",
       "\\item 'do'\n",
       "\\item 'does'\n",
       "\\item 'did'\n",
       "\\item 'doing'\n",
       "\\item 'would'\n",
       "\\item 'should'\n",
       "\\item 'could'\n",
       "\\item 'i\\textbackslash{}'m'\n",
       "\\item 'you\\textbackslash{}'re'\n",
       "\\item 'he\\textbackslash{}'s'\n",
       "\\item 'she\\textbackslash{}'s'\n",
       "\\item 'it\\textbackslash{}'s'\n",
       "\\item 'we\\textbackslash{}'re'\n",
       "\\item 'they\\textbackslash{}'re'\n",
       "\\item 'i\\textbackslash{}'ve'\n",
       "\\item 'you\\textbackslash{}'ve'\n",
       "\\item 'we\\textbackslash{}'ve'\n",
       "\\item 'they\\textbackslash{}'ve'\n",
       "\\item 'i\\textbackslash{}'d'\n",
       "\\item 'you\\textbackslash{}'d'\n",
       "\\item 'he\\textbackslash{}'d'\n",
       "\\item 'she\\textbackslash{}'d'\n",
       "\\item 'we\\textbackslash{}'d'\n",
       "\\item 'they\\textbackslash{}'d'\n",
       "\\item 'i\\textbackslash{}'ll'\n",
       "\\item 'you\\textbackslash{}'ll'\n",
       "\\item 'he\\textbackslash{}'ll'\n",
       "\\item 'she\\textbackslash{}'ll'\n",
       "\\item 'we\\textbackslash{}'ll'\n",
       "\\item 'they\\textbackslash{}'ll'\n",
       "\\item 'isn\\textbackslash{}'t'\n",
       "\\item 'wasn\\textbackslash{}'t'\n",
       "\\item 'weren\\textbackslash{}'t'\n",
       "\\item 'haven\\textbackslash{}'t'\n",
       "\\item 'didn\\textbackslash{}'t'\n",
       "\\item 'won\\textbackslash{}'t'\n",
       "\\item 'wouldn\\textbackslash{}'t'\n",
       "\\item 'shan\\textbackslash{}'t'\n",
       "\\item 'shouldn\\textbackslash{}'t'\n",
       "\\item 'mustn\\textbackslash{}'t'\n",
       "\\item 'let\\textbackslash{}'s'\n",
       "\\item 'that\\textbackslash{}'s'\n",
       "\\item 'who\\textbackslash{}'s'\n",
       "\\item 'what\\textbackslash{}'s'\n",
       "\\item 'here\\textbackslash{}'s'\n",
       "\\item 'there\\textbackslash{}'s'\n",
       "\\item 'when\\textbackslash{}'s'\n",
       "\\item 'where\\textbackslash{}'s'\n",
       "\\item 'why\\textbackslash{}'s'\n",
       "\\item 'how\\textbackslash{}'s'\n",
       "\\item 'a'\n",
       "\\item 'an'\n",
       "\\item 'the'\n",
       "\\item 'and'\n",
       "\\item 'but'\n",
       "\\item 'if'\n",
       "\\item 'or'\n",
       "\\item 'because'\n",
       "\\item 'as'\n",
       "\\item 'of'\n",
       "\\item 'at'\n",
       "\\item 'by'\n",
       "\\item 'for'\n",
       "\\item 'with'\n",
       "\\item 'about'\n",
       "\\item 'between'\n",
       "\\item 'into'\n",
       "\\item 'through'\n",
       "\\item 'during'\n",
       "\\item 'before'\n",
       "\\item 'after'\n",
       "\\item 'to'\n",
       "\\item 'from'\n",
       "\\item 'up'\n",
       "\\item 'in'\n",
       "\\item 'on'\n",
       "\\item 'off'\n",
       "\\item 'again'\n",
       "\\item 'further'\n",
       "\\item 'then'\n",
       "\\item 'once'\n",
       "\\item 'here'\n",
       "\\item 'there'\n",
       "\\item 'when'\n",
       "\\item 'where'\n",
       "\\item 'why'\n",
       "\\item 'any'\n",
       "\\item 'both'\n",
       "\\item 'each'\n",
       "\\item 'few'\n",
       "\\item 'other'\n",
       "\\item 'some'\n",
       "\\item 'nor'\n",
       "\\item 'own'\n",
       "\\item 'so'\n",
       "\\end{enumerate*}\n"
      ],
      "text/markdown": [
       "1. 'i'\n",
       "2. 'me'\n",
       "3. 'my'\n",
       "4. 'myself'\n",
       "5. 'we'\n",
       "6. 'our'\n",
       "7. 'ours'\n",
       "8. 'ourselves'\n",
       "9. 'you'\n",
       "10. 'your'\n",
       "11. 'yours'\n",
       "12. 'yourself'\n",
       "13. 'yourselves'\n",
       "14. 'he'\n",
       "15. 'him'\n",
       "16. 'his'\n",
       "17. 'himself'\n",
       "18. 'she'\n",
       "19. 'her'\n",
       "20. 'hers'\n",
       "21. 'herself'\n",
       "22. 'it'\n",
       "23. 'its'\n",
       "24. 'itself'\n",
       "25. 'they'\n",
       "26. 'them'\n",
       "27. 'their'\n",
       "28. 'theirs'\n",
       "29. 'themselves'\n",
       "30. 'what'\n",
       "31. 'which'\n",
       "32. 'who'\n",
       "33. 'whom'\n",
       "34. 'this'\n",
       "35. 'that'\n",
       "36. 'these'\n",
       "37. 'those'\n",
       "38. 'am'\n",
       "39. 'is'\n",
       "40. 'are'\n",
       "41. 'was'\n",
       "42. 'were'\n",
       "43. 'be'\n",
       "44. 'being'\n",
       "45. 'have'\n",
       "46. 'has'\n",
       "47. 'had'\n",
       "48. 'do'\n",
       "49. 'does'\n",
       "50. 'did'\n",
       "51. 'doing'\n",
       "52. 'would'\n",
       "53. 'should'\n",
       "54. 'could'\n",
       "55. 'i\\'m'\n",
       "56. 'you\\'re'\n",
       "57. 'he\\'s'\n",
       "58. 'she\\'s'\n",
       "59. 'it\\'s'\n",
       "60. 'we\\'re'\n",
       "61. 'they\\'re'\n",
       "62. 'i\\'ve'\n",
       "63. 'you\\'ve'\n",
       "64. 'we\\'ve'\n",
       "65. 'they\\'ve'\n",
       "66. 'i\\'d'\n",
       "67. 'you\\'d'\n",
       "68. 'he\\'d'\n",
       "69. 'she\\'d'\n",
       "70. 'we\\'d'\n",
       "71. 'they\\'d'\n",
       "72. 'i\\'ll'\n",
       "73. 'you\\'ll'\n",
       "74. 'he\\'ll'\n",
       "75. 'she\\'ll'\n",
       "76. 'we\\'ll'\n",
       "77. 'they\\'ll'\n",
       "78. 'isn\\'t'\n",
       "79. 'wasn\\'t'\n",
       "80. 'weren\\'t'\n",
       "81. 'haven\\'t'\n",
       "82. 'didn\\'t'\n",
       "83. 'won\\'t'\n",
       "84. 'wouldn\\'t'\n",
       "85. 'shan\\'t'\n",
       "86. 'shouldn\\'t'\n",
       "87. 'mustn\\'t'\n",
       "88. 'let\\'s'\n",
       "89. 'that\\'s'\n",
       "90. 'who\\'s'\n",
       "91. 'what\\'s'\n",
       "92. 'here\\'s'\n",
       "93. 'there\\'s'\n",
       "94. 'when\\'s'\n",
       "95. 'where\\'s'\n",
       "96. 'why\\'s'\n",
       "97. 'how\\'s'\n",
       "98. 'a'\n",
       "99. 'an'\n",
       "100. 'the'\n",
       "101. 'and'\n",
       "102. 'but'\n",
       "103. 'if'\n",
       "104. 'or'\n",
       "105. 'because'\n",
       "106. 'as'\n",
       "107. 'of'\n",
       "108. 'at'\n",
       "109. 'by'\n",
       "110. 'for'\n",
       "111. 'with'\n",
       "112. 'about'\n",
       "113. 'between'\n",
       "114. 'into'\n",
       "115. 'through'\n",
       "116. 'during'\n",
       "117. 'before'\n",
       "118. 'after'\n",
       "119. 'to'\n",
       "120. 'from'\n",
       "121. 'up'\n",
       "122. 'in'\n",
       "123. 'on'\n",
       "124. 'off'\n",
       "125. 'again'\n",
       "126. 'further'\n",
       "127. 'then'\n",
       "128. 'once'\n",
       "129. 'here'\n",
       "130. 'there'\n",
       "131. 'when'\n",
       "132. 'where'\n",
       "133. 'why'\n",
       "134. 'any'\n",
       "135. 'both'\n",
       "136. 'each'\n",
       "137. 'few'\n",
       "138. 'other'\n",
       "139. 'some'\n",
       "140. 'nor'\n",
       "141. 'own'\n",
       "142. 'so'\n",
       "\n",
       "\n"
      ],
      "text/plain": [
       "  [1] \"i\"          \"me\"         \"my\"         \"myself\"     \"we\"        \n",
       "  [6] \"our\"        \"ours\"       \"ourselves\"  \"you\"        \"your\"      \n",
       " [11] \"yours\"      \"yourself\"   \"yourselves\" \"he\"         \"him\"       \n",
       " [16] \"his\"        \"himself\"    \"she\"        \"her\"        \"hers\"      \n",
       " [21] \"herself\"    \"it\"         \"its\"        \"itself\"     \"they\"      \n",
       " [26] \"them\"       \"their\"      \"theirs\"     \"themselves\" \"what\"      \n",
       " [31] \"which\"      \"who\"        \"whom\"       \"this\"       \"that\"      \n",
       " [36] \"these\"      \"those\"      \"am\"         \"is\"         \"are\"       \n",
       " [41] \"was\"        \"were\"       \"be\"         \"being\"      \"have\"      \n",
       " [46] \"has\"        \"had\"        \"do\"         \"does\"       \"did\"       \n",
       " [51] \"doing\"      \"would\"      \"should\"     \"could\"      \"i'm\"       \n",
       " [56] \"you're\"     \"he's\"       \"she's\"      \"it's\"       \"we're\"     \n",
       " [61] \"they're\"    \"i've\"       \"you've\"     \"we've\"      \"they've\"   \n",
       " [66] \"i'd\"        \"you'd\"      \"he'd\"       \"she'd\"      \"we'd\"      \n",
       " [71] \"they'd\"     \"i'll\"       \"you'll\"     \"he'll\"      \"she'll\"    \n",
       " [76] \"we'll\"      \"they'll\"    \"isn't\"      \"wasn't\"     \"weren't\"   \n",
       " [81] \"haven't\"    \"didn't\"     \"won't\"      \"wouldn't\"   \"shan't\"    \n",
       " [86] \"shouldn't\"  \"mustn't\"    \"let's\"      \"that's\"     \"who's\"     \n",
       " [91] \"what's\"     \"here's\"     \"there's\"    \"when's\"     \"where's\"   \n",
       " [96] \"why's\"      \"how's\"      \"a\"          \"an\"         \"the\"       \n",
       "[101] \"and\"        \"but\"        \"if\"         \"or\"         \"because\"   \n",
       "[106] \"as\"         \"of\"         \"at\"         \"by\"         \"for\"       \n",
       "[111] \"with\"       \"about\"      \"between\"    \"into\"       \"through\"   \n",
       "[116] \"during\"     \"before\"     \"after\"      \"to\"         \"from\"      \n",
       "[121] \"up\"         \"in\"         \"on\"         \"off\"        \"again\"     \n",
       "[126] \"further\"    \"then\"       \"once\"       \"here\"       \"there\"     \n",
       "[131] \"when\"       \"where\"      \"why\"        \"any\"        \"both\"      \n",
       "[136] \"each\"       \"few\"        \"other\"      \"some\"       \"nor\"       \n",
       "[141] \"own\"        \"so\"        "
      ]
     },
     "metadata": {},
     "output_type": "display_data"
    }
   ],
   "source": [
    "if(!require(tm)){\n",
    "  install.packages(\"tm\")\n",
    "  library(tm)\n",
    "}\n",
    "\n",
    "# Modify Stopwords\n",
    "engstop = as.vector(stopwords(\"english\"))\n",
    "\n",
    "remove_ls = c(\"cannot\",\"against\",\"most\",\"ought\",\"aren't\",\n",
    "           \"couldn't\",\"hadn't\",\"couldn't\",\"not\",\"than\",\n",
    "           \"doesn't\",\"until\", \"above\",\"down\" ,\"over\",\"only\",\n",
    "           \"too\",\"been\",\"having\",\"don't\",\"while\",\"below\",\n",
    "           \"under\",\"how\",\"such\",\"very\",\"hasn't\",\"can't\",\n",
    "           \"out\",\"all\",\"more\",\"no\",\"same\")\n",
    "mod_stopwords = engstop [! engstop %in% remove_ls]\n",
    "mod_stopwords"
   ]
  },
  {
   "cell_type": "code",
   "execution_count": 3,
   "metadata": {},
   "outputs": [],
   "source": [
    "# CHANGEME\n",
    "\n",
    "corpus <- VCorpus(VectorSource(train$tweet))\n",
    "corpus <- tm_map(corpus,content_transformer(tolower))\n",
    "# corpus <- tm_map(corpus,removeWords,stopwords('english'))\n",
    "corpus <- tm_map(corpus,removeWords,mod_stopwords)\n",
    "corpus <- tm_map(corpus,removeWords,c(\"weather\"))\n",
    "corpus <- tm_map(corpus,removePunctuation)\n",
    "corpus <- tm_map(corpus,removeNumbers)\n",
    "corpus <- tm_map(corpus,stemDocument)"
   ]
  },
  {
   "cell_type": "code",
   "execution_count": 4,
   "metadata": {},
   "outputs": [],
   "source": [
    "if(!require(RWeka)){\n",
    "  install.packages(\"RWeka\")\n",
    "  library(RWeka)\n",
    "  # We realised a little late that RWeka may have some Java dependencies >.<\n",
    "  # Please note that we only used the function NGramTokenizer from RWeka\n",
    "  # as a utility fn, not as part of the model.\n",
    "  # in hindsight, we found several pure R packages which could achieve the same utility\n",
    "  # e.g. https://www.rdocumentation.org/packages/tokenizers/versions/0.2.1/topics/ngram-tokenizers\n",
    "  # we should have used this instead, but we didn't due to time constraints\n",
    "  # apologies for the oversight; we seek your understanding to please permit this\n",
    "  # the main bulk of the model is k means clustering and randomforest!\n",
    "}\n",
    "\n",
    "BigramTokenizer <- function(x) NGramTokenizer(x, Weka_control(min = 1, max = 2))\n",
    "dtm <- DocumentTermMatrix(corpus, control = list(tokenize = BigramTokenizer))\n",
    "dtm_sparsity = .97 # CHANGEME\n",
    "dtm <- removeSparseTerms(dtm,dtm_sparsity)\n",
    "\n",
    "twittersparse <- as.data.frame(as.matrix(dtm))\n",
    "colnames(twittersparse) <- make.names(colnames(twittersparse))\n",
    "twittersparse$sentiment = train$sentiment"
   ]
  },
  {
   "cell_type": "code",
   "execution_count": 5,
   "metadata": {},
   "outputs": [
    {
     "data": {
      "text/html": [
       "44"
      ],
      "text/latex": [
       "44"
      ],
      "text/markdown": [
       "44"
      ],
      "text/plain": [
       "[1] 44"
      ]
     },
     "metadata": {},
     "output_type": "display_data"
    },
    {
     "data": {
      "text/plain": [
       "<<DocumentTermMatrix (documents: 22500, terms: 44)>>\n",
       "Non-/sparse entries: 64724/925276\n",
       "Sparsity           : 93%\n",
       "Maximal term length: 18\n",
       "Weighting          : term frequency (tf)"
      ]
     },
     "metadata": {},
     "output_type": "display_data"
    }
   ],
   "source": [
    "length(findFreqTerms(dtm,lowfreq=50))\n",
    "dtm"
   ]
  },
  {
   "cell_type": "markdown",
   "metadata": {},
   "source": [
    "## Clean Test Data"
   ]
  },
  {
   "cell_type": "code",
   "execution_count": 6,
   "metadata": {},
   "outputs": [],
   "source": [
    "# CHANGEME \n",
    "corpus <- VCorpus(VectorSource(test$tweet))\n",
    "corpus <- tm_map(corpus,content_transformer(tolower))\n",
    "# corpus <- tm_map(corpus,removeWords,stopwords('english'))\n",
    "corpus <- tm_map(corpus,removeWords,mod_stopwords)\n",
    "corpus <- tm_map(corpus,removeWords,c(\"weather\"))\n",
    "corpus <- tm_map(corpus,removePunctuation)\n",
    "corpus <- tm_map(corpus,removeNumbers)\n",
    "corpus <- tm_map(corpus,stemDocument)"
   ]
  },
  {
   "cell_type": "code",
   "execution_count": 7,
   "metadata": {},
   "outputs": [],
   "source": [
    "dtm_test <- DocumentTermMatrix(corpus, control = list(tokenize = BigramTokenizer, dictionary=Terms(dtm)))\n",
    "twittersparse_test <- as.data.frame(as.matrix(dtm_test))\n",
    "colnames(twittersparse_test) <- make.names(colnames(twittersparse_test))\n"
   ]
  },
  {
   "cell_type": "markdown",
   "metadata": {},
   "source": [
    "## Cluster"
   ]
  },
  {
   "cell_type": "code",
   "execution_count": 8,
   "metadata": {},
   "outputs": [
    {
     "name": "stderr",
     "output_type": "stream",
     "text": [
      "Loading required package: lattice\n",
      "\n",
      "Loading required package: ggplot2\n",
      "\n",
      "\n",
      "Attaching package: ‘ggplot2’\n",
      "\n",
      "\n",
      "The following object is masked from ‘package:NLP’:\n",
      "\n",
      "    annotate\n",
      "\n",
      "\n"
     ]
    }
   ],
   "source": [
    "if(!require(caret)){\n",
    "  install.packages(\"caret\")\n",
    "  library(caret)\n",
    "}\n",
    "\n",
    "limitedTrain = twittersparse\n",
    "limitedTrain$sentiment = NULL\n",
    "limitedTest = twittersparse_test\n",
    "limitedTest$sentiment = NULL\n",
    "\n",
    "preproc = preProcess(limitedTrain)\n",
    "normTrain = predict(preproc, limitedTrain)\n",
    "normTest = predict(preproc, limitedTest)"
   ]
  },
  {
   "cell_type": "code",
   "execution_count": 9,
   "metadata": {},
   "outputs": [
    {
     "name": "stderr",
     "output_type": "stream",
     "text": [
      "Loading required package: grid\n",
      "\n",
      "Loading required package: modeltools\n",
      "\n",
      "Loading required package: stats4\n",
      "\n"
     ]
    },
    {
     "data": {
      "text/plain": [
       "clusterTrain\n",
       "    1     2     3 \n",
       " 7395  1484 13621 "
      ]
     },
     "metadata": {},
     "output_type": "display_data"
    }
   ],
   "source": [
    "set.seed(1)\n",
    "centers = 3\n",
    "km = kmeans(normTrain, centers = centers , nstart = 5)\n",
    "\n",
    "if(!require(flexclust)){\n",
    "  install.packages(\"flexclust\")\n",
    "  library(flexclust)\n",
    "}\n",
    "\n",
    "km.kcca = as.kcca(km, normTrain)\n",
    "clusterTrain = predict(km.kcca)\n",
    "clusterTest = predict(km.kcca, newdata = normTest)\n",
    "table(clusterTrain)"
   ]
  },
  {
   "cell_type": "code",
   "execution_count": 10,
   "metadata": {},
   "outputs": [
    {
     "data": {
      "image/png": "[encoded data removed]",
      "text/plain": [
       "plot without title"
      ]
     },
     "metadata": {
      "image/png": {
       "height": 420,
       "width": 420
      },
      "text/plain": {
       "height": 420,
       "width": 420
      }
     },
     "output_type": "display_data"
    }
   ],
   "source": [
    "for (k in 1:centers) {\n",
    "    name1 = paste0(\"train\",k)\n",
    "    value1 = subset(twittersparse, clusterTrain == k)\n",
    "    assign(name1, value1)\n",
    "    name2 = paste0(\"test\",k)\n",
    "    value2 = subset(twittersparse_test, clusterTest == k)\n",
    "    assign(name2, value2)\n",
    "}\n",
    "sdsovercount = NULL\n",
    "for (k in 1:centers) {\n",
    "    sdsovercount = c(sdsovercount, sd(eval(parse(text = paste0(\"train\",k,\"$sentiment\"))))/table(clusterTrain)[as.character(k)])\n",
    "}\n",
    "plot(sdsovercount) # gives us some insight into the 'purity' of clusters"
   ]
  },
  {
   "cell_type": "markdown",
   "metadata": {},
   "source": [
    "# Stage 2: Random Forest"
   ]
  },
  {
   "cell_type": "markdown",
   "metadata": {},
   "source": [
    "## Regenerate DTM"
   ]
  },
  {
   "cell_type": "code",
   "execution_count": 15,
   "metadata": {},
   "outputs": [],
   "source": [
    "for (k in 1:centers) {\n",
    "    name = paste0(\"train\",k)\n",
    "    val = train[as.numeric(rownames(eval(parse(text = name)))),]\n",
    "    rownames(val) = rownames(eval(parse(text = name)))\n",
    "    assign(name, val)\n",
    "    \n",
    "    name = paste0(\"test\",k)\n",
    "    val = test[as.numeric(rownames(eval(parse(text = name)))),]\n",
    "    rownames(val) = rownames(eval(parse(text = name)))\n",
    "    assign(name, val)\n",
    "}"
   ]
  },
  {
   "cell_type": "code",
   "execution_count": 17,
   "metadata": {},
   "outputs": [],
   "source": [
    "\n",
    "for (k in 1:centers) {\n",
    "    # CHANGEME\n",
    "    name = paste0(\"train\",k)\n",
    "    corpus <- VCorpus(VectorSource(eval(parse(text = name))$tweet))\n",
    "    corpus <- tm_map(corpus,content_transformer(tolower))\n",
    "    # STOPWORDS\n",
    "    # corpus <- tm_map(corpus,removeWords,stopwords('english'))\n",
    "    corpus <- tm_map(corpus,removeWords,mod_stopwords)\n",
    "    # STOPWORDS\n",
    "    corpus <- tm_map(corpus,removePunctuation)\n",
    "    corpus <- tm_map(corpus,removeNumbers)\n",
    "    corpus <- tm_map(corpus,stemDocument)\n",
    "\n",
    "    BigramTokenizer <- function(x) NGramTokenizer(x, Weka_control(min = 1, max = 2))\n",
    "    dtm <- DocumentTermMatrix(corpus, control = list(tokenize = BigramTokenizer))\n",
    "    dtm_sparsity = 0.999 # CHANGEME\n",
    "    dtm <- removeSparseTerms(dtm,dtm_sparsity)\n",
    "\n",
    "    twittersparse <- as.data.frame(as.matrix(dtm))\n",
    "    colnames(twittersparse) <- make.names(colnames(twittersparse))\n",
    "    twittersparse$sentiment = eval(parse(text = name))$sentiment\n",
    "    assign(name, twittersparse)\n",
    "   \n",
    "    # CHANGEME\n",
    "    name = paste0(\"test\",k)\n",
    "    corpus <- VCorpus(VectorSource(eval(parse(text = name))$tweet))\n",
    "    corpus <- tm_map(corpus,content_transformer(tolower))\n",
    "    # STOPWORDS\n",
    "    # corpus <- tm_map(corpus,removeWords,stopwords('english'))\n",
    "    corpus <- tm_map(corpus,removeWords,mod_stopwords)\n",
    "    # STOPWORDS\n",
    "    corpus <- tm_map(corpus,removePunctuation)\n",
    "    corpus <- tm_map(corpus,removeNumbers)\n",
    "    corpus <- tm_map(corpus,stemDocument)\n",
    "\n",
    "    dtm_test <- DocumentTermMatrix(corpus, control = list(tokenize = BigramTokenizer, dictionary=Terms(dtm)))\n",
    "    twittersparse_test <- as.data.frame(as.matrix(dtm_test))\n",
    "    colnames(twittersparse_test) <- make.names(colnames(twittersparse_test))\n",
    "    rownames(twittersparse_test) = rownames(eval(parse(text = name)))\n",
    "    twittersparse$sentiment = test$sentiment\n",
    "    assign(name, twittersparse_test)\n",
    "    \n",
    "}"
   ]
  },
  {
   "cell_type": "code",
   "execution_count": 18,
   "metadata": {},
   "outputs": [],
   "source": [
    "# head(sort(apply(train4,2,sum), decreasing = TRUE), 20) "
   ]
  },
  {
   "cell_type": "markdown",
   "metadata": {},
   "source": [
    "# Train Model"
   ]
  },
  {
   "cell_type": "code",
   "execution_count": 19,
   "metadata": {},
   "outputs": [
    {
     "name": "stderr",
     "output_type": "stream",
     "text": [
      "randomForest 4.6-14\n",
      "\n",
      "Type rfNews() to see new features/changes/bug fixes.\n",
      "\n",
      "\n",
      "Attaching package: ‘randomForest’\n",
      "\n",
      "\n",
      "The following object is masked from ‘package:ggplot2’:\n",
      "\n",
      "    margin\n",
      "\n",
      "\n"
     ]
    }
   ],
   "source": [
    "if(!require(randomForest)){\n",
    "  install.packages(\"randomForest\")\n",
    "  library(randomForest)\n",
    "}\n",
    "\n",
    "# CHANGEME\n",
    "set.seed(1)\n",
    "ntree = 500\n",
    "nodesize = 10\n",
    "\n",
    "for (k in 1:centers) {\n",
    "    if (sd(eval(parse(text = paste0(\"train\",k,\"$sentiment\")))) != 0) {\n",
    "        dataname = paste0(\"train\",k)\n",
    "        forestname = paste0(\"forest\",k)\n",
    "\n",
    "        forest = randomForest(as.factor(sentiment)~., data=eval(parse(text = dataname)), nodesize=nodesize, ntree=ntree)\n",
    "        assign(forestname, forest)        \n",
    "    }\n",
    "\n",
    "}"
   ]
  },
  {
   "cell_type": "code",
   "execution_count": 20,
   "metadata": {},
   "outputs": [],
   "source": [
    "# train[as.numeric(rownames(train20)),]"
   ]
  },
  {
   "cell_type": "markdown",
   "metadata": {},
   "source": [
    "# Predictions"
   ]
  },
  {
   "cell_type": "code",
   "execution_count": 21,
   "metadata": {},
   "outputs": [],
   "source": [
    "for (k in 1:centers) {\n",
    "    dataname = paste0(\"test\",k)\n",
    "    predname = paste0(\"predict\",k)\n",
    "    if (sd(eval(parse(text = paste0(\"train\",k,\"$sentiment\")))) != 0) {\n",
    "        forestname = paste0(\"forest\",k)\n",
    "        prediction <- predict(eval(parse(text = forestname)),newdata=eval(parse(text = dataname)),type=\"class\")\n",
    "        assign(predname, prediction)\n",
    "    } else {\n",
    "        n = dim(eval(parse(text = dataname)))[1]\n",
    "        guess = mean(eval(parse(text = paste0(\"train\",k,\"$sentiment\"))))\n",
    "        prediction = rep(guess, n)\n",
    "        names = rownames(eval(parse(text = dataname)))\n",
    "        names(prediction) = names\n",
    "        assign(predname, prediction)\n",
    "    }\n",
    "}"
   ]
  },
  {
   "cell_type": "code",
   "execution_count": 22,
   "metadata": {},
   "outputs": [
    {
     "data": {
      "image/png": "[encoded data removed]",
      "text/plain": [
       "Plot with title “forest1”"
      ]
     },
     "metadata": {
      "image/png": {
       "height": 420,
       "width": 420
      },
      "text/plain": {
       "height": 420,
       "width": 420
      }
     },
     "output_type": "display_data"
    }
   ],
   "source": [
    "varImpPlot(forest1)\n",
    "# 1,4,5,6,7"
   ]
  },
  {
   "cell_type": "code",
   "execution_count": 23,
   "metadata": {},
   "outputs": [],
   "source": [
    "predicts = NULL\n",
    "for (k in 1:centers) {\n",
    "    predname = paste0(\"predict\",k)\n",
    "    predicts = c(predicts, eval(parse(text = predname)))\n",
    "}\n",
    "predicts <- predicts[ order(as.numeric(names(predicts))) ]"
   ]
  },
  {
   "cell_type": "code",
   "execution_count": 24,
   "metadata": {},
   "outputs": [],
   "source": [
    "results = subset(test, select=-c(tweet))\n",
    "results$sentiment = predicts"
   ]
  },
  {
   "cell_type": "markdown",
   "metadata": {},
   "source": [
    "# Export csv"
   ]
  },
  {
   "cell_type": "code",
   "execution_count": 26,
   "metadata": {},
   "outputs": [],
   "source": [
    "write.csv(results, file = \"submission_k1_1_3_500XXX.csv\",row.names=FALSE)"
   ]
  }
 ],
 "metadata": {
  "kernelspec": {
   "display_name": "R",
   "language": "R",
   "name": "ir"
  },
  "language_info": {
   "codemirror_mode": "r",
   "file_extension": ".r",
   "mimetype": "text/x-r-source",
   "name": "R",
   "pygments_lexer": "r",
   "version": "3.5.2"
  }
 },
 "nbformat": 4,
 "nbformat_minor": 2
}
